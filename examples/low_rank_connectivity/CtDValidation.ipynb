{
 "cells": [
  {
   "cell_type": "markdown",
   "metadata": {},
   "source": [
    "1. Check that training vanilla RNNs on the CDM task is successfull using CtD\n",
    "2. Generate neural trajectories (synthetic data) with the data-trained model\n",
    "3. Fit another RNN and verify the relationships between the original and the fitted connectivity matrix J as is Fig 1b in Valente et al."
   ]
  },
  {
   "cell_type": "markdown",
   "metadata": {},
   "source": [
    "# sample code to run locally \n",
    "\n"
   ]
  }
 ],
 "metadata": {
  "language_info": {
   "name": "python"
  }
 },
 "nbformat": 4,
 "nbformat_minor": 2
}
