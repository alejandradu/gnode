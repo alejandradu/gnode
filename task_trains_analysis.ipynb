{
 "cells": [
  {
   "cell_type": "markdown",
   "metadata": {},
   "source": [
    "### NODE on 3BFF\n",
    "\n",
    "* To validate results with 2023 paper (Tim)\n",
    "\n",
    "* 1500 epochs, seed=0, weight decay = 1e-8, learning rate ?, hidden size ?, batch size?"
   ]
  },
  {
   "cell_type": "code",
   "execution_count": null,
   "metadata": {
    "vscode": {
     "languageId": "plaintext"
    }
   },
   "outputs": [],
   "source": [
    "# all task train outputs are in scratch\n",
    "\n",
    "TASK_TRAIN_DIR = \"/scratch/networks/ad2002/content/trained_models/task-trained/\""
   ]
  },
  {
   "cell_type": "markdown",
   "metadata": {},
   "source": [
    "Want to visualize the latent activity of the task-trained model\n",
    "\n",
    "* can compare with the GRU in the workshop notebook for the same parameters"
   ]
  },
  {
   "cell_type": "code",
   "execution_count": null,
   "metadata": {
    "vscode": {
     "languageId": "plaintext"
    }
   },
   "outputs": [],
   "source": [
    "from ctd.comparison.analysis.tt.tt import Analysis_TT\n",
    "\n",
    "fpath = HOME_DIR + \"20240312_NODE_NBFF_Test/weight_decay=1e-08 max_epochs=1500 seed=0/\"\n",
    "\n",
    "# Create the analysis object:\n",
    "analysis_tt_3bff = Analysis_TT(\n",
    "    run_name = \"NODE_3BFF_1500e_1e-08weight\", \n",
    "    filepath = fpath)\n",
    "\n",
    "analysis_tt_3bff.plot_trial_io(num_trials=2)"
   ]
  }
 ],
 "metadata": {
  "language_info": {
   "name": "python"
  }
 },
 "nbformat": 4,
 "nbformat_minor": 2
}
