{
 "cells": [
  {
   "cell_type": "code",
   "execution_count": 2,
   "metadata": {},
   "outputs": [],
   "source": [
    "from ctd.comparison.analysis.tt.tt import Analysis_TT"
   ]
  },
  {
   "cell_type": "code",
   "execution_count": 4,
   "metadata": {},
   "outputs": [],
   "source": [
    "tt_3bff_path = \"/home/csverst/Github/CtDBenchmark/content/trained_models/task-trained/20240503_Fig1_NBFF_NoisyGRU/max_epochs=500 n_samples=1000 latent_size=64 seed=0 learning_rate=0.001/\"\n",
    "tt_MultiTask_path = \"/home/csverst/Github/CtDBenchmark/content/trained_models/task-trained/20240513_MultiTask_NoisyGRU_Final/max_epochs=500 n_samples=2000 batch_size=2000 latent_size=128 seed=0 learning_rate=0.001/\"\n",
    "tt_RandomTarget_path = \"/home/csverst/Github/CtDBenchmark/content/trained_models/task-trained/20240605_RandomTarget_NoisyGRU_GoStep_ModL2_Delay/max_epochs=2000 latent_size=128 l2_wt=5e-05 proprioception_delay=0.02 vision_delay=0.05 n_samples=1100 n_samples=1100 seed=0 learning_rate=0.001/\"\n",
    "\n",
    "tt_3bff = Analysis_TT(run_name = \"tt_3bff\", filepath = tt_3bff_path)\n",
    "# tt_MultiTask = Analysis_TT(run_name = \"tt_MultiTask\", filepath = tt_MultiTask_path)\n",
    "tt_RandomTarget = Analysis_TT(run_name = \"tt_RandomTarget\", filepath = tt_RandomTarget_path)\n"
   ]
  },
  {
   "cell_type": "code",
   "execution_count": 6,
   "metadata": {},
   "outputs": [],
   "source": [
    "tt_3bff.simulate_neural_data(subfolder = \"\", dataset_path=\"\")\n",
    "# tt_MultiTask.simulate_neural_data()\n",
    "tt_RandomTarget.simulate_neural_data(subfolder = \"\", dataset_path=\"\")\n",
    "\n",
    "\n"
   ]
  },
  {
   "cell_type": "code",
   "execution_count": 13,
   "metadata": {},
   "outputs": [],
   "source": [
    "from ctd.task_modeling.simulator.neural_simulator import NeuralDataSimulatorGeneral\n",
    "sim_3bff=  tt_3bff.simulator\n",
    "\n",
    "embed_dict = {\n",
    "    \"rect_func\": 'exp', # exp, sigmoid, softplus\n",
    "    \"fr_scaling\": 2.0,\n",
    "    \n",
    "}\n",
    "\n",
    "noise_dict_poisson = {\n",
    "    \"obs_noise\": \"pseudoPoisson\",\n",
    "    \"dispersion\": 1.0\n",
    "}\n",
    "sim_3bff_new = NeuralDataSimulatorGeneral(embed_dict=embed_dict, noise_dict=noise_dict_poisson)\n",
    "\n",
    "tt_3bff.simulator = sim_3bff_new\n",
    "tt_3bff.simulate_neural_data(subfolder = \"poisson\", dataset_path=\"\")\n",
    "\n",
    "import pickle as pkl\n",
    "with open(\"tt_3bff.pkl\", \"wb\") as f:\n",
    "    pkl.dump(tt_3bff, f)\n",
    "\n",
    "model = tt_3bff.wrapper\n",
    "with open(\"model.pkl\", \"wb\") as f:\n",
    "    pkl.dump(model, f)\n",
    "\n",
    "datamodule = tt_3bff.datamodule\n",
    "with open(\"datamodule_sim.pkl\", \"wb\") as f:\n",
    "    pkl.dump(datamodule, f)\n",
    "with open(\"simulator.pkl\", \"wb\") as f:\n",
    "    pkl.dump(sim_3bff_new, f)"
   ]
  },
  {
   "cell_type": "code",
   "execution_count": 18,
   "metadata": {},
   "outputs": [],
   "source": [
    "import os\n",
    "from ctd.comparison.analysis.dt.dt import Analysis_DT\n",
    "from ctd.comparison.comparison import Comparison\n",
    "\n",
    "comparison = Comparison(comparison_tag =\"resim_test\")\n",
    "resim_path = \"/home/csverst/Github/CtDBenchmark/content/trained_models/task-trained/tt_3bff/n_neurons_50_obs_noise_pseudoPoisson_dispersion_1.0_see/\"\n",
    "\n",
    "path_GRU_Sweep = resim_path + \"20240606_GRU_Resim3BFF/\"\n",
    "subfolders_GRU = [f.path for f in os.scandir(path_GRU_Sweep) if f.is_dir()]\n",
    "tt_3bff_resim = Analysis_TT(run_name = \"tt_3bff_resim\", filepath = resim_path)\n",
    "comparison.load_analysis(tt_3bff_resim, group = \"tt_3bff_resim\", reference_analysis=True)\n",
    "for subfolder in subfolders_GRU:\n",
    "    subfolder = subfolder + \"/\"\n",
    "    analysis_GRU = Analysis_DT(run_name = \"GRU\", filepath = subfolder, model_type = \"SAE\")\n",
    "    comparison.load_analysis(analysis_GRU, group = \"GRU\")\n",
    "\n"
   ]
  },
  {
   "cell_type": "code",
   "execution_count": 19,
   "metadata": {},
   "outputs": [
    {
     "ename": "ValueError",
     "evalue": "No reference index provided",
     "output_type": "error",
     "traceback": [
      "\u001b[0;31m---------------------------------------------------------------------------\u001b[0m",
      "\u001b[0;31mValueError\u001b[0m                                Traceback (most recent call last)",
      "Cell \u001b[0;32mIn[19], line 1\u001b[0m\n\u001b[0;32m----> 1\u001b[0m \u001b[43mcomparison\u001b[49m\u001b[38;5;241;43m.\u001b[39;49m\u001b[43mcompare_rate_state_r2\u001b[49m\u001b[43m(\u001b[49m\u001b[43m)\u001b[49m\n",
      "File \u001b[0;32m~/Github/CtDBenchmark/ctd/comparison/comparison.py:139\u001b[0m, in \u001b[0;36mComparison.compare_rate_state_r2\u001b[0;34m(self, ref_ind, label_runs, label_groups, phase, plot_dict)\u001b[0m\n\u001b[1;32m    136\u001b[0m     ref_ind \u001b[38;5;241m=\u001b[39m \u001b[38;5;28mself\u001b[39m\u001b[38;5;241m.\u001b[39mref_ind\n\u001b[1;32m    137\u001b[0m \u001b[38;5;28;01mif\u001b[39;00m ref_ind \u001b[38;5;129;01mis\u001b[39;00m \u001b[38;5;28;01mNone\u001b[39;00m \u001b[38;5;129;01mand\u001b[39;00m \u001b[38;5;28mself\u001b[39m\u001b[38;5;241m.\u001b[39mref_ind \u001b[38;5;129;01mis\u001b[39;00m \u001b[38;5;28;01mNone\u001b[39;00m:\n\u001b[1;32m    138\u001b[0m     \u001b[38;5;66;03m# Throw an error\u001b[39;00m\n\u001b[0;32m--> 139\u001b[0m     \u001b[38;5;28;01mraise\u001b[39;00m \u001b[38;5;167;01mValueError\u001b[39;00m(\u001b[38;5;124m\"\u001b[39m\u001b[38;5;124mNo reference index provided\u001b[39m\u001b[38;5;124m\"\u001b[39m)\n\u001b[1;32m    140\u001b[0m reference_analysis \u001b[38;5;241m=\u001b[39m \u001b[38;5;28mself\u001b[39m\u001b[38;5;241m.\u001b[39manalyses[ref_ind]\n\u001b[1;32m    141\u001b[0m rate_state_mat \u001b[38;5;241m=\u001b[39m np\u001b[38;5;241m.\u001b[39mzeros((\u001b[38;5;28mself\u001b[39m\u001b[38;5;241m.\u001b[39mnum_analyses, \u001b[38;5;241m2\u001b[39m))\n",
      "\u001b[0;31mValueError\u001b[0m: No reference index provided"
     ]
    }
   ],
   "source": [
    "comparison.compare_rate_state_r2()"
   ]
  }
 ],
 "metadata": {
  "kernelspec": {
   "display_name": "build5",
   "language": "python",
   "name": "python3"
  },
  "language_info": {
   "codemirror_mode": {
    "name": "ipython",
    "version": 3
   },
   "file_extension": ".py",
   "mimetype": "text/x-python",
   "name": "python",
   "nbconvert_exporter": "python",
   "pygments_lexer": "ipython3",
   "version": "3.10.13"
  }
 },
 "nbformat": 4,
 "nbformat_minor": 2
}
