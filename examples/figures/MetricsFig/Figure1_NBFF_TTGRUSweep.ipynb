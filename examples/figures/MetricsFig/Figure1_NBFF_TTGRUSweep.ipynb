{
 "cells": [
  {
   "cell_type": "code",
   "execution_count": 8,
   "metadata": {},
   "outputs": [
    {
     "data": {
      "text/plain": [
       "True"
      ]
     },
     "execution_count": 8,
     "metadata": {},
     "output_type": "execute_result"
    }
   ],
   "source": [
    "import matplotlib.pyplot as plt\n",
    "\n",
    "import numpy as np\n",
    "import os\n",
    "from ctd.comparison.analysis.tt.tt import Analysis_TT \n",
    "from ctd.comparison.analysis.dt.dt import Analysis_DT\n",
    "# Import pca\n",
    "import dotenv\n",
    "from ctd.comparison.comparison import Comparison\n",
    "import torch\n",
    "from sklearn.decomposition import PCA\n",
    "from sklearn.linear_model import LinearRegression\n",
    "from sklearn.metrics import r2_score\n",
    "dotenv.load_dotenv(dotenv.find_dotenv())"
   ]
  },
  {
   "cell_type": "code",
   "execution_count": 9,
   "metadata": {},
   "outputs": [],
   "source": [
    "def plot_model_fps(fps, latents = None, q_thresh = 1e-5, label = \"Model\"):\n",
    "    fig = plt.figure(figsize=(10, 10))\n",
    "    ax = fig.add_subplot(111, projection='3d')\n",
    "    x_star = fps.xstar\n",
    "    q_star = fps.qstar\n",
    "    q_flag = q_star < q_thresh\n",
    "    stability= fps.is_stable\n",
    "    x_star = x_star[q_flag]\n",
    "    q_star = q_star[q_flag]\n",
    "    pca = PCA(n_components=3)\n",
    "    if latents is not None:\n",
    "        lats_flat = latents.reshape(-1, latents.shape[-1])\n",
    "        lats_flat = pca.fit_transform(lats_flat)\n",
    "        lats_pca = lats_flat.reshape(latents.shape[0], latents.shape[1], 3)\n",
    "        x_star = pca.transform(x_star)\n",
    "        for i in range(30):\n",
    "            ax.plot(lats_pca[i,:,0], lats_pca[i,:,1], lats_pca[i,:,2], linewidth=0.5)\n",
    "    else:\n",
    "        x_star = pca.fit_transform(x_star)\n",
    "    stability = stability[q_flag]\n",
    "    stable_X = x_star[stability]\n",
    "    unstable_X = x_star[~stability]\n",
    "    ax.scatter(stable_X[:,0], stable_X[:,1], stable_X[:,2], c='g', marker='o', label = \"Stable\")\n",
    "    ax.scatter(unstable_X[:,0], unstable_X[:,1], unstable_X[:,2], c='r', marker='x', label = \"Unstable\")\n",
    "    ax.set_title(f\"{label} FPS\")\n",
    "    ax.legend()\n",
    "    ax.set_xlabel('PC1')\n",
    "    ax.set_ylabel('PC2')\n",
    "    ax.set_zlabel('PC3')\n",
    "    plt.savefig(f\"fps_{label}.pdf\")"
   ]
  },
  {
   "cell_type": "code",
   "execution_count": 10,
   "metadata": {},
   "outputs": [
    {
     "name": "stdout",
     "output_type": "stream",
     "text": [
      "/home/csverst/Github/CtDBenchmark/\n"
     ]
    }
   ],
   "source": [
    "\n",
    "\n",
    "HOME_DIR = os.environ['HOME_DIR']\n",
    "print(HOME_DIR)\n",
    "\n",
    "pathTT = HOME_DIR + 'content/trained_models/task-trained/20240503_Fig1_NBFF_NoisyGRU/max_epochs=500 n_samples=1000 latent_size=64 seed=0 learning_rate=0.001/'\n",
    "an_TT = Analysis_TT(run_name = \"TT\", filepath = pathTT)\n",
    "\n",
    "\n",
    "path_GRU_Sweep = pathTT + \"20240503_Fig1_NBFF_GRU_TT_GRU_Sweep/\"\n",
    "subfolders_GRU = [f.path for f in os.scandir(path_GRU_Sweep) if f.is_dir()]\n",
    "\n",
    "path_LDS_Sweep = pathTT + \"20240503_Fig1_NBFF_LDS_TT_GRU_Sweep/\"\n",
    "subfolders_LDS = [f.path for f in os.scandir(path_LDS_Sweep) if f.is_dir()]\n",
    "\n",
    "path_NODE_Sweep = pathTT + \"20240503_Fig1_NBFF_NODE_TT_GRU_Sweep/\"\n",
    "subfolders_NODE = [f.path for f in os.scandir(path_NODE_Sweep) if f.is_dir()]\n"
   ]
  },
  {
   "cell_type": "code",
   "execution_count": 11,
   "metadata": {},
   "outputs": [
    {
     "name": "stdout",
     "output_type": "stream",
     "text": [
      "<KeysViewHDF5 ['eval_latents', 'eval_rates', 'train_latents', 'train_rates']>\n",
      "<KeysViewHDF5 ['eval_latents', 'eval_rates', 'train_latents', 'train_rates']>\n",
      "<KeysViewHDF5 ['eval_latents', 'eval_rates', 'train_latents', 'train_rates']>\n",
      "<KeysViewHDF5 ['eval_latents', 'eval_rates', 'train_latents', 'train_rates']>\n",
      "<KeysViewHDF5 ['eval_latents', 'eval_rates', 'fixed_points', 'train_latents', 'train_rates']>\n",
      "<KeysViewHDF5 ['eval_latents', 'eval_rates', 'train_latents', 'train_rates']>\n",
      "<KeysViewHDF5 ['eval_latents', 'eval_rates', 'train_latents', 'train_rates']>\n",
      "<KeysViewHDF5 ['eval_latents', 'eval_rates', 'train_latents', 'train_rates']>\n",
      "<KeysViewHDF5 ['eval_latents', 'eval_rates', 'fixed_points', 'train_latents', 'train_rates']>\n",
      "<KeysViewHDF5 ['eval_latents', 'eval_rates', 'fixed_points', 'train_latents', 'train_rates']>\n"
     ]
    }
   ],
   "source": [
    "\n",
    "from ctd.comparison.analysis.external.ext import Analysis_Ext\n",
    "slds_path = \"/home/csverst/Github/CtDBenchmark/sldsV2/\"\n",
    "\n",
    "slds3_1 = Analysis_Ext(run_name = \"SLDS3_1\", filepath = slds_path + \"slds_3bff_v2_3_Run1.h5\")\n",
    "slds3_2 = Analysis_Ext(run_name = \"SLDS3_3\", filepath = slds_path + \"slds_3bff_v2_3_Run2.h5\")\n",
    "slds3_3 = Analysis_Ext(run_name = \"SLDS3_4\", filepath = slds_path + \"slds_3bff_v2_3_Run3.h5\")\n",
    "slds3_4 = Analysis_Ext(run_name = \"SLDS3_4\", filepath = slds_path + \"slds_3bff_v2_3_Run4.h5\")\n",
    "slds3_5 = Analysis_Ext(run_name = \"SLDS3_5\", filepath = slds_path + \"slds_3bff_v2_3_Run5.h5\")\n",
    "slds8_1 = Analysis_Ext(run_name = \"SLDS8_1\", filepath = slds_path + \"slds_3bff_v2_8_Run1.h5\")\n",
    "slds8_2 = Analysis_Ext(run_name = \"SLDS8_2\", filepath = slds_path + \"slds_3bff_v2_8_Run2.h5\")\n",
    "slds8_3 = Analysis_Ext(run_name = \"SLDS8_3\", filepath = slds_path + \"slds_3bff_v2_8_Run3.h5\")\n",
    "slds8_4 = Analysis_Ext(run_name = \"SLDS8_4\", filepath = slds_path + \"slds_3bff_v2_8_Run4.h5\")\n",
    "slds8_5 = Analysis_Ext(run_name = \"SLDS8_5\", filepath = slds_path + \"slds_3bff_v2_8_Run5.h5\")"
   ]
  },
  {
   "cell_type": "code",
   "execution_count": 12,
   "metadata": {},
   "outputs": [
    {
     "ename": "KeyboardInterrupt",
     "evalue": "",
     "output_type": "error",
     "traceback": [
      "\u001b[0;31m---------------------------------------------------------------------------\u001b[0m",
      "\u001b[0;31mKeyboardInterrupt\u001b[0m                         Traceback (most recent call last)",
      "Cell \u001b[0;32mIn[12], line 11\u001b[0m\n\u001b[1;32m      9\u001b[0m \u001b[38;5;28;01mfor\u001b[39;00m subfolder \u001b[38;5;129;01min\u001b[39;00m subfolders_LDS:\n\u001b[1;32m     10\u001b[0m     subfolder \u001b[38;5;241m=\u001b[39m subfolder \u001b[38;5;241m+\u001b[39m \u001b[38;5;124m\"\u001b[39m\u001b[38;5;124m/\u001b[39m\u001b[38;5;124m\"\u001b[39m\n\u001b[0;32m---> 11\u001b[0m     analysis_LDS \u001b[38;5;241m=\u001b[39m \u001b[43mAnalysis_DT\u001b[49m\u001b[43m(\u001b[49m\u001b[43mrun_name\u001b[49m\u001b[43m \u001b[49m\u001b[38;5;241;43m=\u001b[39;49m\u001b[43m \u001b[49m\u001b[38;5;124;43m\"\u001b[39;49m\u001b[38;5;124;43mLDS\u001b[39;49m\u001b[38;5;124;43m\"\u001b[39;49m\u001b[43m,\u001b[49m\u001b[43m \u001b[49m\u001b[43mfilepath\u001b[49m\u001b[43m \u001b[49m\u001b[38;5;241;43m=\u001b[39;49m\u001b[43m \u001b[49m\u001b[43msubfolder\u001b[49m\u001b[43m,\u001b[49m\u001b[43m \u001b[49m\u001b[43mmodel_type\u001b[49m\u001b[43m \u001b[49m\u001b[38;5;241;43m=\u001b[39;49m\u001b[43m \u001b[49m\u001b[38;5;124;43m\"\u001b[39;49m\u001b[38;5;124;43mSAE\u001b[39;49m\u001b[38;5;124;43m\"\u001b[39;49m\u001b[43m)\u001b[49m\n\u001b[1;32m     12\u001b[0m     comparison\u001b[38;5;241m.\u001b[39mload_analysis(analysis_LDS, group \u001b[38;5;241m=\u001b[39m \u001b[38;5;124m\"\u001b[39m\u001b[38;5;124mLDS\u001b[39m\u001b[38;5;124m\"\u001b[39m)\n\u001b[1;32m     14\u001b[0m \u001b[38;5;28;01mfor\u001b[39;00m subfolder \u001b[38;5;129;01min\u001b[39;00m subfolders_NODE:\n",
      "File \u001b[0;32m~/Github/CtDBenchmark/ctd/comparison/analysis/dt/dt.py:350\u001b[0m, in \u001b[0;36mAnalysis_DT.__init__\u001b[0;34m(self, run_name, filepath, model_type)\u001b[0m\n\u001b[1;32m    348\u001b[0m \u001b[38;5;28mself\u001b[39m\u001b[38;5;241m.\u001b[39mrun_name \u001b[38;5;241m=\u001b[39m run_name\n\u001b[1;32m    349\u001b[0m \u001b[38;5;28mself\u001b[39m\u001b[38;5;241m.\u001b[39mmodel_type \u001b[38;5;241m=\u001b[39m model_type\n\u001b[0;32m--> 350\u001b[0m \u001b[38;5;28;43mself\u001b[39;49m\u001b[38;5;241;43m.\u001b[39;49m\u001b[43mload_wrapper\u001b[49m\u001b[43m(\u001b[49m\u001b[43mfilepath\u001b[49m\u001b[43m)\u001b[49m\n\u001b[1;32m    351\u001b[0m \u001b[38;5;28;01mif\u001b[39;00m \u001b[38;5;28mself\u001b[39m\u001b[38;5;241m.\u001b[39mmodel_type \u001b[38;5;241m==\u001b[39m \u001b[38;5;124m\"\u001b[39m\u001b[38;5;124mSAE\u001b[39m\u001b[38;5;124m\"\u001b[39m:\n\u001b[1;32m    352\u001b[0m     \u001b[38;5;28mself\u001b[39m\u001b[38;5;241m.\u001b[39mget_model_inputs \u001b[38;5;241m=\u001b[39m types\u001b[38;5;241m.\u001b[39mMethodType(get_model_inputs_SAE, \u001b[38;5;28mself\u001b[39m)\n",
      "File \u001b[0;32m~/Github/CtDBenchmark/ctd/comparison/analysis/dt/dt.py:382\u001b[0m, in \u001b[0;36mAnalysis_DT.load_wrapper\u001b[0;34m(self, filepath)\u001b[0m\n\u001b[1;32m    380\u001b[0m         \u001b[38;5;28mself\u001b[39m\u001b[38;5;241m.\u001b[39mmodel \u001b[38;5;241m=\u001b[39m pickle\u001b[38;5;241m.\u001b[39mload(f)\n\u001b[1;32m    381\u001b[0m     \u001b[38;5;28;01mwith\u001b[39;00m \u001b[38;5;28mopen\u001b[39m(filepath \u001b[38;5;241m+\u001b[39m \u001b[38;5;124m\"\u001b[39m\u001b[38;5;124mdatamodule.pkl\u001b[39m\u001b[38;5;124m\"\u001b[39m, \u001b[38;5;124m\"\u001b[39m\u001b[38;5;124mrb\u001b[39m\u001b[38;5;124m\"\u001b[39m) \u001b[38;5;28;01mas\u001b[39;00m f:\n\u001b[0;32m--> 382\u001b[0m         \u001b[38;5;28mself\u001b[39m\u001b[38;5;241m.\u001b[39mdatamodule \u001b[38;5;241m=\u001b[39m \u001b[43mpickle\u001b[49m\u001b[38;5;241;43m.\u001b[39;49m\u001b[43mload\u001b[49m\u001b[43m(\u001b[49m\u001b[43mf\u001b[49m\u001b[43m)\u001b[49m\n\u001b[1;32m    383\u001b[0m \u001b[38;5;28;01melse\u001b[39;00m:\n\u001b[1;32m    384\u001b[0m     \u001b[38;5;28;01mwith\u001b[39;00m \u001b[38;5;28mopen\u001b[39m(filepath \u001b[38;5;241m+\u001b[39m \u001b[38;5;124m\"\u001b[39m\u001b[38;5;124mmodel.pkl\u001b[39m\u001b[38;5;124m\"\u001b[39m, \u001b[38;5;124m\"\u001b[39m\u001b[38;5;124mrb\u001b[39m\u001b[38;5;124m\"\u001b[39m) \u001b[38;5;28;01mas\u001b[39;00m f:\n",
      "File \u001b[0;32m~/miniconda3/envs/build5/lib/python3.10/site-packages/torch/storage.py:239\u001b[0m, in \u001b[0;36m_load_from_bytes\u001b[0;34m(b)\u001b[0m\n\u001b[1;32m    235\u001b[0m     \u001b[38;5;129m@property\u001b[39m\n\u001b[1;32m    236\u001b[0m     \u001b[38;5;28;01mdef\u001b[39;00m \u001b[38;5;21mis_cuda\u001b[39m(\u001b[38;5;28mself\u001b[39m):\n\u001b[1;32m    237\u001b[0m         \u001b[38;5;28;01mreturn\u001b[39;00m \u001b[38;5;28mself\u001b[39m\u001b[38;5;241m.\u001b[39mdevice\u001b[38;5;241m.\u001b[39mtype \u001b[38;5;241m==\u001b[39m \u001b[38;5;124m'\u001b[39m\u001b[38;5;124mcuda\u001b[39m\u001b[38;5;124m'\u001b[39m\n\u001b[0;32m--> 239\u001b[0m \u001b[38;5;28;01mdef\u001b[39;00m \u001b[38;5;21m_load_from_bytes\u001b[39m(b):\n\u001b[1;32m    240\u001b[0m     \u001b[38;5;28;01mreturn\u001b[39;00m torch\u001b[38;5;241m.\u001b[39mload(io\u001b[38;5;241m.\u001b[39mBytesIO(b))\n\u001b[1;32m    243\u001b[0m _StorageBase\u001b[38;5;241m.\u001b[39mtype \u001b[38;5;241m=\u001b[39m _type  \u001b[38;5;66;03m# type: ignore[assignment]\u001b[39;00m\n",
      "\u001b[0;31mKeyboardInterrupt\u001b[0m: "
     ]
    }
   ],
   "source": [
    "comparison = Comparison(comparison_tag=\"Figure1NBFF_TTGRU_Sweep\")\n",
    "comparison.load_analysis(an_TT, reference_analysis=True, group = \"TT\")\n",
    "\n",
    "for subfolder in subfolders_GRU:\n",
    "    subfolder = subfolder + \"/\"\n",
    "    analysis_GRU = Analysis_DT(run_name = \"GRU\", filepath = subfolder, model_type = \"SAE\")\n",
    "    comparison.load_analysis(analysis_GRU, group = \"GRU\")\n",
    "\n",
    "for subfolder in subfolders_LDS:\n",
    "    subfolder = subfolder + \"/\"\n",
    "    analysis_LDS = Analysis_DT(run_name = \"LDS\", filepath = subfolder, model_type = \"SAE\")\n",
    "    comparison.load_analysis(analysis_LDS, group = \"LDS\")\n",
    "\n",
    "for subfolder in subfolders_NODE:\n",
    "    subfolder = subfolder + \"/\"\n",
    "    analysis_NODE = Analysis_DT(run_name = \"NODE\", filepath = subfolder, model_type = \"SAE\")\n",
    "    comparison.load_analysis(analysis_NODE, group = \"NODE\")\n",
    "\n",
    "train_true_rates = analysis_GRU.get_true_rates(phase = 'train')\n",
    "eval_true_rates = analysis_GRU.get_true_rates(phase = 'val')\n",
    "\n",
    "slds3_1.add_true_rates(train_true_rates, eval_true_rates)\n",
    "slds3_2.add_true_rates(train_true_rates, eval_true_rates)\n",
    "slds3_3.add_true_rates(train_true_rates, eval_true_rates)\n",
    "slds3_4.add_true_rates(train_true_rates, eval_true_rates)\n",
    "slds3_5.add_true_rates(train_true_rates, eval_true_rates)\n",
    "slds8_1.add_true_rates(train_true_rates, eval_true_rates)\n",
    "slds8_2.add_true_rates(train_true_rates, eval_true_rates)\n",
    "slds8_3.add_true_rates(train_true_rates, eval_true_rates)\n",
    "slds8_4.add_true_rates(train_true_rates, eval_true_rates)\n",
    "slds8_5.add_true_rates(train_true_rates, eval_true_rates)\n",
    "\n",
    "comparison.load_analysis(slds3_1, group = \"SLDS3\")\n",
    "comparison.load_analysis(slds3_2, group = \"SLDS3\")\n",
    "comparison.load_analysis(slds3_3, group = \"SLDS3\")\n",
    "comparison.load_analysis(slds3_4, group = \"SLDS3\")\n",
    "comparison.load_analysis(slds3_5, group = \"SLDS3\")\n",
    "comparison.load_analysis(slds8_1, group = \"SLDS8\")\n",
    "comparison.load_analysis(slds8_2, group = \"SLDS8\")\n",
    "comparison.load_analysis(slds8_3, group = \"SLDS8\")\n",
    "comparison.load_analysis(slds8_4, group = \"SLDS8\")\n",
    "comparison.load_analysis(slds8_5, group = \"SLDS8\")\n",
    "\n",
    "comparison.regroup()"
   ]
  },
  {
   "cell_type": "code",
   "execution_count": null,
   "metadata": {},
   "outputs": [
    {
     "data": {
      "image/png": "[encoded data removed]",
      "text/plain": [
       "<Figure size 640x480 with 1 Axes>"
      ]
     },
     "metadata": {},
     "output_type": "display_data"
    }
   ],
   "source": [
    "slds_list = [slds8_4]\n",
    "for slds in slds_list:\n",
    "    slds.plot_fps()"
   ]
  },
  {
   "cell_type": "code",
   "execution_count": null,
   "metadata": {},
   "outputs": [
    {
     "name": "stdout",
     "output_type": "stream",
     "text": [
      "Working on 1 of 26: GRU\n",
      "Group: GRU\n",
      "Rate R2: 0.9122868707711185\n",
      "State R2: 0.8656370765054572\n",
      "Working on 2 of 26: GRU\n",
      "Group: GRU\n",
      "Rate R2: 0.9166232088059927\n",
      "State R2: 0.8502357091042566\n",
      "Working on 3 of 26: GRU\n",
      "Group: GRU\n",
      "Rate R2: 0.9114562072159572\n",
      "State R2: 0.8805933303185844\n",
      "Working on 4 of 26: GRU\n",
      "Group: GRU\n"
     ]
    },
    {
     "ename": "KeyboardInterrupt",
     "evalue": "",
     "output_type": "error",
     "traceback": [
      "\u001b[0;31m---------------------------------------------------------------------------\u001b[0m",
      "\u001b[0;31mKeyboardInterrupt\u001b[0m                         Traceback (most recent call last)",
      "Cell \u001b[0;32mIn[7], line 6\u001b[0m\n\u001b[1;32m      1\u001b[0m plot_dict \u001b[38;5;241m=\u001b[39m {\n\u001b[1;32m      2\u001b[0m     \u001b[38;5;124m\"\u001b[39m\u001b[38;5;124msave_pdf\u001b[39m\u001b[38;5;124m\"\u001b[39m: \u001b[38;5;28;01mTrue\u001b[39;00m,\n\u001b[1;32m      3\u001b[0m     \u001b[38;5;124m\"\u001b[39m\u001b[38;5;124max_lim\u001b[39m\u001b[38;5;124m\"\u001b[39m: [\u001b[38;5;241m0.15\u001b[39m, \u001b[38;5;241m1.05\u001b[39m],\n\u001b[1;32m      4\u001b[0m     \u001b[38;5;124m\"\u001b[39m\u001b[38;5;124mmarker\u001b[39m\u001b[38;5;124m\"\u001b[39m: \u001b[38;5;124m\"\u001b[39m\u001b[38;5;124mo\u001b[39m\u001b[38;5;124m\"\u001b[39m,\n\u001b[1;32m      5\u001b[0m }\n\u001b[0;32m----> 6\u001b[0m \u001b[43mcomparison\u001b[49m\u001b[38;5;241;43m.\u001b[39;49m\u001b[43mcompare_rate_state_r2\u001b[49m\u001b[43m(\u001b[49m\u001b[43mplot_dict\u001b[49m\u001b[43m \u001b[49m\u001b[38;5;241;43m=\u001b[39;49m\u001b[43m \u001b[49m\u001b[43mplot_dict\u001b[49m\u001b[43m)\u001b[49m\n",
      "File \u001b[0;32m~/Github/CtDBenchmark/ctd/comparison/comparison.py:159\u001b[0m, in \u001b[0;36mComparison.compare_rate_state_r2\u001b[0;34m(self, ref_ind, label_runs, label_groups, phase, plot_dict)\u001b[0m\n\u001b[1;32m    157\u001b[0m \u001b[38;5;28;01mif\u001b[39;00m i \u001b[38;5;241m==\u001b[39m ref_ind:\n\u001b[1;32m    158\u001b[0m     \u001b[38;5;28;01mcontinue\u001b[39;00m\n\u001b[0;32m--> 159\u001b[0m rates, latents \u001b[38;5;241m=\u001b[39m \u001b[38;5;28;43mself\u001b[39;49m\u001b[38;5;241;43m.\u001b[39;49m\u001b[43manalyses\u001b[49m\u001b[43m[\u001b[49m\u001b[43mi\u001b[49m\u001b[43m]\u001b[49m\u001b[38;5;241;43m.\u001b[39;49m\u001b[43mget_model_outputs\u001b[49m\u001b[43m(\u001b[49m\u001b[43mphase\u001b[49m\u001b[38;5;241;43m=\u001b[39;49m\u001b[43mphase\u001b[49m\u001b[43m)\u001b[49m\n\u001b[1;32m    160\u001b[0m true_rates \u001b[38;5;241m=\u001b[39m \u001b[38;5;28mself\u001b[39m\u001b[38;5;241m.\u001b[39manalyses[i]\u001b[38;5;241m.\u001b[39mget_true_rates(phase\u001b[38;5;241m=\u001b[39mphase)\n\u001b[1;32m    162\u001b[0m rates_stack \u001b[38;5;241m=\u001b[39m []\n",
      "File \u001b[0;32m~/Github/CtDBenchmark/ctd/comparison/analysis/dt/dt.py:253\u001b[0m, in \u001b[0;36mget_model_outputs_SAE\u001b[0;34m(self, phase)\u001b[0m\n\u001b[1;32m    251\u001b[0m dt_spiking \u001b[38;5;241m=\u001b[39m dt_spiking\u001b[38;5;241m.\u001b[39mto(\u001b[38;5;28mself\u001b[39m\u001b[38;5;241m.\u001b[39mmodel\u001b[38;5;241m.\u001b[39mdevice)\n\u001b[1;32m    252\u001b[0m dt_inputs \u001b[38;5;241m=\u001b[39m dt_inputs\u001b[38;5;241m.\u001b[39mto(\u001b[38;5;28mself\u001b[39m\u001b[38;5;241m.\u001b[39mmodel\u001b[38;5;241m.\u001b[39mdevice)\n\u001b[0;32m--> 253\u001b[0m log_rates, latents \u001b[38;5;241m=\u001b[39m \u001b[38;5;28;43mself\u001b[39;49m\u001b[38;5;241;43m.\u001b[39;49m\u001b[43mmodel\u001b[49m\u001b[43m(\u001b[49m\u001b[43mdt_spiking\u001b[49m\u001b[43m,\u001b[49m\u001b[43m \u001b[49m\u001b[43mdt_inputs\u001b[49m\u001b[43m)\u001b[49m\n\u001b[1;32m    254\u001b[0m \u001b[38;5;28;01mreturn\u001b[39;00m torch\u001b[38;5;241m.\u001b[39mexp(log_rates), latents\n",
      "File \u001b[0;32m~/miniconda3/envs/build5/lib/python3.10/site-packages/torch/nn/modules/module.py:1194\u001b[0m, in \u001b[0;36mModule._call_impl\u001b[0;34m(self, *input, **kwargs)\u001b[0m\n\u001b[1;32m   1190\u001b[0m \u001b[38;5;66;03m# If we don't have any hooks, we want to skip the rest of the logic in\u001b[39;00m\n\u001b[1;32m   1191\u001b[0m \u001b[38;5;66;03m# this function, and just call forward.\u001b[39;00m\n\u001b[1;32m   1192\u001b[0m \u001b[38;5;28;01mif\u001b[39;00m \u001b[38;5;129;01mnot\u001b[39;00m (\u001b[38;5;28mself\u001b[39m\u001b[38;5;241m.\u001b[39m_backward_hooks \u001b[38;5;129;01mor\u001b[39;00m \u001b[38;5;28mself\u001b[39m\u001b[38;5;241m.\u001b[39m_forward_hooks \u001b[38;5;129;01mor\u001b[39;00m \u001b[38;5;28mself\u001b[39m\u001b[38;5;241m.\u001b[39m_forward_pre_hooks \u001b[38;5;129;01mor\u001b[39;00m _global_backward_hooks\n\u001b[1;32m   1193\u001b[0m         \u001b[38;5;129;01mor\u001b[39;00m _global_forward_hooks \u001b[38;5;129;01mor\u001b[39;00m _global_forward_pre_hooks):\n\u001b[0;32m-> 1194\u001b[0m     \u001b[38;5;28;01mreturn\u001b[39;00m \u001b[43mforward_call\u001b[49m\u001b[43m(\u001b[49m\u001b[38;5;241;43m*\u001b[39;49m\u001b[38;5;28;43minput\u001b[39;49m\u001b[43m,\u001b[49m\u001b[43m \u001b[49m\u001b[38;5;241;43m*\u001b[39;49m\u001b[38;5;241;43m*\u001b[39;49m\u001b[43mkwargs\u001b[49m\u001b[43m)\u001b[49m\n\u001b[1;32m   1195\u001b[0m \u001b[38;5;66;03m# Do not call functions when jit is used\u001b[39;00m\n\u001b[1;32m   1196\u001b[0m full_backward_hooks, non_full_backward_hooks \u001b[38;5;241m=\u001b[39m [], []\n",
      "File \u001b[0;32m~/Github/CtDBenchmark/ctd/data_modeling/models/SAE/dyn_models_GRU.py:62\u001b[0m, in \u001b[0;36mGRULatentSAE.forward\u001b[0;34m(self, data, inputs)\u001b[0m\n\u001b[1;32m     60\u001b[0m ic_drop \u001b[38;5;241m=\u001b[39m \u001b[38;5;28mself\u001b[39m\u001b[38;5;241m.\u001b[39mdropout(ic)\n\u001b[1;32m     61\u001b[0m \u001b[38;5;66;03m# Evaluate the NeuralODE\u001b[39;00m\n\u001b[0;32m---> 62\u001b[0m latents, _ \u001b[38;5;241m=\u001b[39m \u001b[38;5;28;43mself\u001b[39;49m\u001b[38;5;241;43m.\u001b[39;49m\u001b[43mdecoder\u001b[49m\u001b[43m(\u001b[49m\u001b[43minputs\u001b[49m\u001b[43m,\u001b[49m\u001b[43m \u001b[49m\u001b[43mic_drop\u001b[49m\u001b[43m)\u001b[49m\n\u001b[1;32m     63\u001b[0m B, T, N \u001b[38;5;241m=\u001b[39m latents\u001b[38;5;241m.\u001b[39mshape\n\u001b[1;32m     64\u001b[0m \u001b[38;5;66;03m# Map decoder state to data dimension\u001b[39;00m\n",
      "File \u001b[0;32m~/miniconda3/envs/build5/lib/python3.10/site-packages/torch/nn/modules/module.py:1194\u001b[0m, in \u001b[0;36mModule._call_impl\u001b[0;34m(self, *input, **kwargs)\u001b[0m\n\u001b[1;32m   1190\u001b[0m \u001b[38;5;66;03m# If we don't have any hooks, we want to skip the rest of the logic in\u001b[39;00m\n\u001b[1;32m   1191\u001b[0m \u001b[38;5;66;03m# this function, and just call forward.\u001b[39;00m\n\u001b[1;32m   1192\u001b[0m \u001b[38;5;28;01mif\u001b[39;00m \u001b[38;5;129;01mnot\u001b[39;00m (\u001b[38;5;28mself\u001b[39m\u001b[38;5;241m.\u001b[39m_backward_hooks \u001b[38;5;129;01mor\u001b[39;00m \u001b[38;5;28mself\u001b[39m\u001b[38;5;241m.\u001b[39m_forward_hooks \u001b[38;5;129;01mor\u001b[39;00m \u001b[38;5;28mself\u001b[39m\u001b[38;5;241m.\u001b[39m_forward_pre_hooks \u001b[38;5;129;01mor\u001b[39;00m _global_backward_hooks\n\u001b[1;32m   1193\u001b[0m         \u001b[38;5;129;01mor\u001b[39;00m _global_forward_hooks \u001b[38;5;129;01mor\u001b[39;00m _global_forward_pre_hooks):\n\u001b[0;32m-> 1194\u001b[0m     \u001b[38;5;28;01mreturn\u001b[39;00m \u001b[43mforward_call\u001b[49m\u001b[43m(\u001b[49m\u001b[38;5;241;43m*\u001b[39;49m\u001b[38;5;28;43minput\u001b[39;49m\u001b[43m,\u001b[49m\u001b[43m \u001b[49m\u001b[38;5;241;43m*\u001b[39;49m\u001b[38;5;241;43m*\u001b[39;49m\u001b[43mkwargs\u001b[49m\u001b[43m)\u001b[49m\n\u001b[1;32m   1195\u001b[0m \u001b[38;5;66;03m# Do not call functions when jit is used\u001b[39;00m\n\u001b[1;32m   1196\u001b[0m full_backward_hooks, non_full_backward_hooks \u001b[38;5;241m=\u001b[39m [], []\n",
      "File \u001b[0;32m~/Github/CtDBenchmark/ctd/data_modeling/models/SAE/dyn_models_GRU.py:17\u001b[0m, in \u001b[0;36mRNN.forward\u001b[0;34m(self, input, h_0)\u001b[0m\n\u001b[1;32m     15\u001b[0m states \u001b[38;5;241m=\u001b[39m []\n\u001b[1;32m     16\u001b[0m \u001b[38;5;28;01mfor\u001b[39;00m input_step \u001b[38;5;129;01min\u001b[39;00m \u001b[38;5;28minput\u001b[39m\u001b[38;5;241m.\u001b[39mtranspose(\u001b[38;5;241m0\u001b[39m, \u001b[38;5;241m1\u001b[39m):\n\u001b[0;32m---> 17\u001b[0m     hidden \u001b[38;5;241m=\u001b[39m \u001b[38;5;28;43mself\u001b[39;49m\u001b[38;5;241;43m.\u001b[39;49m\u001b[43mcell\u001b[49m\u001b[43m(\u001b[49m\u001b[43minput_step\u001b[49m\u001b[43m,\u001b[49m\u001b[43m \u001b[49m\u001b[43mhidden\u001b[49m\u001b[43m)\u001b[49m\n\u001b[1;32m     18\u001b[0m     states\u001b[38;5;241m.\u001b[39mappend(hidden)\n\u001b[1;32m     19\u001b[0m states \u001b[38;5;241m=\u001b[39m torch\u001b[38;5;241m.\u001b[39mstack(states, dim\u001b[38;5;241m=\u001b[39m\u001b[38;5;241m1\u001b[39m)\n",
      "File \u001b[0;32m~/miniconda3/envs/build5/lib/python3.10/site-packages/torch/nn/modules/module.py:1194\u001b[0m, in \u001b[0;36mModule._call_impl\u001b[0;34m(self, *input, **kwargs)\u001b[0m\n\u001b[1;32m   1190\u001b[0m \u001b[38;5;66;03m# If we don't have any hooks, we want to skip the rest of the logic in\u001b[39;00m\n\u001b[1;32m   1191\u001b[0m \u001b[38;5;66;03m# this function, and just call forward.\u001b[39;00m\n\u001b[1;32m   1192\u001b[0m \u001b[38;5;28;01mif\u001b[39;00m \u001b[38;5;129;01mnot\u001b[39;00m (\u001b[38;5;28mself\u001b[39m\u001b[38;5;241m.\u001b[39m_backward_hooks \u001b[38;5;129;01mor\u001b[39;00m \u001b[38;5;28mself\u001b[39m\u001b[38;5;241m.\u001b[39m_forward_hooks \u001b[38;5;129;01mor\u001b[39;00m \u001b[38;5;28mself\u001b[39m\u001b[38;5;241m.\u001b[39m_forward_pre_hooks \u001b[38;5;129;01mor\u001b[39;00m _global_backward_hooks\n\u001b[1;32m   1193\u001b[0m         \u001b[38;5;129;01mor\u001b[39;00m _global_forward_hooks \u001b[38;5;129;01mor\u001b[39;00m _global_forward_pre_hooks):\n\u001b[0;32m-> 1194\u001b[0m     \u001b[38;5;28;01mreturn\u001b[39;00m \u001b[43mforward_call\u001b[49m\u001b[43m(\u001b[49m\u001b[38;5;241;43m*\u001b[39;49m\u001b[38;5;28;43minput\u001b[39;49m\u001b[43m,\u001b[49m\u001b[43m \u001b[49m\u001b[38;5;241;43m*\u001b[39;49m\u001b[38;5;241;43m*\u001b[39;49m\u001b[43mkwargs\u001b[49m\u001b[43m)\u001b[49m\n\u001b[1;32m   1195\u001b[0m \u001b[38;5;66;03m# Do not call functions when jit is used\u001b[39;00m\n\u001b[1;32m   1196\u001b[0m full_backward_hooks, non_full_backward_hooks \u001b[38;5;241m=\u001b[39m [], []\n",
      "File \u001b[0;32m~/miniconda3/envs/build5/lib/python3.10/site-packages/torch/nn/modules/rnn.py:1284\u001b[0m, in \u001b[0;36mGRUCell.forward\u001b[0;34m(self, input, hx)\u001b[0m\n\u001b[1;32m   1281\u001b[0m \u001b[38;5;28;01melse\u001b[39;00m:\n\u001b[1;32m   1282\u001b[0m     hx \u001b[38;5;241m=\u001b[39m hx\u001b[38;5;241m.\u001b[39munsqueeze(\u001b[38;5;241m0\u001b[39m) \u001b[38;5;28;01mif\u001b[39;00m \u001b[38;5;129;01mnot\u001b[39;00m is_batched \u001b[38;5;28;01melse\u001b[39;00m hx\n\u001b[0;32m-> 1284\u001b[0m ret \u001b[38;5;241m=\u001b[39m \u001b[43m_VF\u001b[49m\u001b[38;5;241;43m.\u001b[39;49m\u001b[43mgru_cell\u001b[49m\u001b[43m(\u001b[49m\n\u001b[1;32m   1285\u001b[0m \u001b[43m    \u001b[49m\u001b[38;5;28;43minput\u001b[39;49m\u001b[43m,\u001b[49m\u001b[43m \u001b[49m\u001b[43mhx\u001b[49m\u001b[43m,\u001b[49m\n\u001b[1;32m   1286\u001b[0m \u001b[43m    \u001b[49m\u001b[38;5;28;43mself\u001b[39;49m\u001b[38;5;241;43m.\u001b[39;49m\u001b[43mweight_ih\u001b[49m\u001b[43m,\u001b[49m\u001b[43m \u001b[49m\u001b[38;5;28;43mself\u001b[39;49m\u001b[38;5;241;43m.\u001b[39;49m\u001b[43mweight_hh\u001b[49m\u001b[43m,\u001b[49m\n\u001b[1;32m   1287\u001b[0m \u001b[43m    \u001b[49m\u001b[38;5;28;43mself\u001b[39;49m\u001b[38;5;241;43m.\u001b[39;49m\u001b[43mbias_ih\u001b[49m\u001b[43m,\u001b[49m\u001b[43m \u001b[49m\u001b[38;5;28;43mself\u001b[39;49m\u001b[38;5;241;43m.\u001b[39;49m\u001b[43mbias_hh\u001b[49m\u001b[43m,\u001b[49m\n\u001b[1;32m   1288\u001b[0m \u001b[43m\u001b[49m\u001b[43m)\u001b[49m\n\u001b[1;32m   1290\u001b[0m \u001b[38;5;28;01mif\u001b[39;00m \u001b[38;5;129;01mnot\u001b[39;00m is_batched:\n\u001b[1;32m   1291\u001b[0m     ret \u001b[38;5;241m=\u001b[39m ret\u001b[38;5;241m.\u001b[39msqueeze(\u001b[38;5;241m0\u001b[39m)\n",
      "\u001b[0;31mKeyboardInterrupt\u001b[0m: "
     ]
    }
   ],
   "source": [
    "plot_dict = {\n",
    "    \"save_pdf\": True,\n",
    "    \"ax_lim\": [0.15, 1.05],\n",
    "    \"marker\": \"o\",\n",
    "}\n",
    "comparison.compare_rate_state_r2(plot_dict = plot_dict)"
   ]
  },
  {
   "cell_type": "code",
   "execution_count": null,
   "metadata": {},
   "outputs": [],
   "source": [
    "comparison_single = Comparison(comparison_tag=\"Figure1NBFF_TTGRU_Single\")\n",
    "comparison_single.load_analysis(an_TT, reference_analysis=True, group = \"TT\")\n",
    "comparison_single.load_analysis(analysis_NODE, group = \"NODE\")\n",
    "comparison_single.load_analysis(analysis_LDS, group = \"LDS\")\n",
    "comparison_single.load_analysis(analysis_GRU, group = \"GRU\")\n",
    "comparison_single.regroup()\n",
    "\n",
    "tt_latents = an_TT.get_latents(phase = 'val').detach().cpu().numpy()\n",
    "gru_latents = analysis_GRU.get_latents(phase = 'val').detach().cpu().numpy()\n",
    "lds_latents = analysis_LDS.get_latents(phase = 'val').detach().cpu().numpy()\n",
    "node_latents = analysis_NODE.get_latents(phase = 'val').detach().cpu().numpy()\n",
    "\n",
    "print(tt_latents.shape)\n",
    "print(gru_latents.shape)\n",
    "print(lds_latents.shape)\n",
    "print(node_latents.shape)\n",
    "\n",
    "# dict1 = {\n",
    "#     'tt': tt_latents,\n",
    "#     'gru': gru_latents,\n",
    "#     'lds': lds_latents,\n",
    "#     'node': node_latents\n",
    "# }\n",
    "\n",
    "# # Save dict as pickle\n",
    "# import pickle\n",
    "# with open('latents.pkl', 'wb') as f:\n",
    "#     pickle.dump(dict1, f)\n"
   ]
  },
  {
   "cell_type": "code",
   "execution_count": null,
   "metadata": {},
   "outputs": [],
   "source": [
    "lr_gru = LinearRegression()\n",
    "lr_lds = LinearRegression()\n",
    "lr_node = LinearRegression()\n",
    "\n",
    "tt_latents_flat = tt_latents.reshape(-1, tt_latents.shape[-1])\n",
    "gru_latents_flat = gru_latents.reshape(-1, gru_latents.shape[-1])\n",
    "lds_latents_flat = lds_latents.reshape(-1, lds_latents.shape[-1])\n",
    "node_latents_flat = node_latents.reshape(-1, node_latents.shape[-1])\n",
    "\n",
    "lr_gru.fit(gru_latents_flat, tt_latents_flat)\n",
    "lr_lds.fit(lds_latents_flat, tt_latents_flat)\n",
    "lr_node.fit(node_latents_flat, tt_latents_flat)\n",
    "\n",
    "\n",
    "gru_latents_pred = lr_gru.predict(gru_latents_flat)\n",
    "lds_latents_pred = lr_lds.predict(lds_latents_flat)\n",
    "node_latents_pred = lr_node.predict(node_latents_flat)\n",
    "\n",
    "print(gru_latents_pred.shape)\n",
    "gru_lats_tt = gru_latents_pred.reshape(tt_latents.shape)\n",
    "lds_lats_tt = lds_latents_pred.reshape(tt_latents.shape)\n",
    "node_lats_tt = node_latents_pred.reshape(tt_latents.shape)\n",
    "\n",
    "\n",
    "fig = plt.figure(figsize=(10, 10))\n",
    "ax = fig.add_subplot(111)\n",
    "ax.plot(tt_latents[0,:,0], label = \"TT\")\n",
    "ax.plot(gru_lats_tt[0,:,0], label = \"GRU\")\n",
    "ax.plot(lds_lats_tt[0,:,0], label = \"LDS\")\n",
    "ax.plot(node_lats_tt[0,:,0], label = \"NODE\")\n",
    "\n",
    "ax.legend()\n"
   ]
  },
  {
   "cell_type": "code",
   "execution_count": null,
   "metadata": {},
   "outputs": [],
   "source": [
    "r2_vals = comparison_single.plot_neural_preds(neuron_list =[1,2], trial_list = [5,10])"
   ]
  },
  {
   "cell_type": "code",
   "execution_count": null,
   "metadata": {},
   "outputs": [],
   "source": [
    "comparison_single = Comparison(comparison_tag=\"Figure1NBFF_TTGRU_DTNODE_Single\")\n",
    "comparison_single.load_analysis(an_TT, reference_analysis=True, group = \"TT\")\n",
    "comparison_single.load_analysis(analysis_NODE, group = \"NODE\")\n",
    "comparison_single.load_analysis(analysis_LDS, group = \"LDS\")\n",
    "comparison_single.load_analysis(analysis_GRU, group = \"GRU\")\n",
    "comparison_single.load_analysis(slds3_1, group = \"SLDS3\")\n",
    "comparison_single.regroup()\n",
    "\n",
    "#comparison_single.plot_trials_reference(num_trials =2, num_pcs=4)\n",
    "# comparison_single.plot_trials_reference_dims(num_trials=2, dims = [0,1,2,3])\n"
   ]
  },
  {
   "cell_type": "code",
   "execution_count": null,
   "metadata": {},
   "outputs": [],
   "source": []
  },
  {
   "cell_type": "code",
   "execution_count": null,
   "metadata": {},
   "outputs": [],
   "source": [
    "\n",
    "def visualize_stateR2(comp, num_trials=2, ref_ind = None, pcs_to_plot = [7,8,9,10,11]):\n",
    "    self = comp\n",
    "    if ref_ind is None:\n",
    "        ref_ind = self.ref_ind\n",
    "    if ref_ind is None and self.ref_ind is None:\n",
    "        # Throw an error\n",
    "        raise ValueError(\"No reference index provided\")\n",
    "    ref_lats = (\n",
    "        self.analyses[ref_ind]\n",
    "        .get_latents(\n",
    "            phase=\"val\",\n",
    "        )\n",
    "        .detach()\n",
    "        .numpy()\n",
    "    )\n",
    "    pca = PCA()\n",
    "    ref_lats_flat = ref_lats.reshape(\n",
    "        ref_lats.shape[0] * ref_lats.shape[1], ref_lats.shape[2]\n",
    "    )\n",
    "    ref_lats_pca_flat = pca.fit_transform(ref_lats_flat)\n",
    "    ref_lats_pca = ref_lats_pca_flat.reshape(ref_lats.shape)\n",
    "\n",
    "    fig = plt.figure(figsize = (20,10))\n",
    "    axes = fig.subplots(self.num_analyses, len(pcs_to_plot))\n",
    "    for i in range(self.num_analyses):\n",
    "        latents = self.analyses[i].get_latents(phase=\"val\").detach().numpy()\n",
    "        pca_DT = PCA()\n",
    "\n",
    "        lats_flat = latents.reshape(\n",
    "            latents.shape[0] * latents.shape[1], latents.shape[2]\n",
    "        )\n",
    "        lats_pca_flat = pca_DT.fit_transform(lats_flat)\n",
    "\n",
    "        reg = LinearRegression().fit(ref_lats_pca_flat, lats_pca_flat)\n",
    "        pred_latents_pca_flat = reg.predict(ref_lats_pca_flat)\n",
    "        r2_scores = r2_score(lats_pca_flat, pred_latents_pca_flat, multioutput='raw_values')\n",
    "        var_r2_score = r2_score(lats_pca_flat, pred_latents_pca_flat, multioutput='variance_weighted')\n",
    "        print(f\"R2 Score for {self.analyses[i].run_name}: {var_r2_score}\")\n",
    "        pred_latents_pca = pred_latents_pca_flat.reshape(latents.shape)\n",
    "        lats_pca = lats_pca_flat.reshape(latents.shape)\n",
    "\n",
    "        for j in range(len(pcs_to_plot)):\n",
    "            pc_num = pcs_to_plot[j] + 1\n",
    "            if pc_num < latents.shape[2]:\n",
    "                axes[i, j].plot(pred_latents_pca[0, :100, pc_num], c = 'r', label=\"Predicted from TT\")\n",
    "                axes[i, j].plot(lats_pca[0, :100, pc_num], c = 'k', label = \"True from DT\")\n",
    "                axes[i, j].text(75, .01, s= f\"R2: {r2_scores[pc_num]:.2f}\")\n",
    "            else:\n",
    "                axes[i, j].plot(np.zeros(lats_pca[0, :100, 0].shape), label = \"Predicted from TT\") \n",
    "            if i == self.num_analyses - 1:\n",
    "                axes[i, j].set_xlabel(\"Time\")\n",
    "            else:\n",
    "                axes[i, j].set_xticks([])\n",
    "\n",
    "        axes[i, 0].set_ylabel(f\"{self.analyses[i].run_name}\")\n",
    "    plt.savefig(f\"state_r2_dims.pdf\")"
   ]
  },
  {
   "cell_type": "code",
   "execution_count": null,
   "metadata": {},
   "outputs": [],
   "source": [
    "analysis_NODE.plot_scree(max_pcs = 12   )"
   ]
  },
  {
   "cell_type": "code",
   "execution_count": null,
   "metadata": {},
   "outputs": [],
   "source": [
    "analysis_GRU.plot_scree(max_pcs = 12)"
   ]
  },
  {
   "cell_type": "code",
   "execution_count": null,
   "metadata": {},
   "outputs": [],
   "source": [
    "analysis_LDS.plot_scree(max_pcs = 12)"
   ]
  },
  {
   "cell_type": "code",
   "execution_count": null,
   "metadata": {},
   "outputs": [],
   "source": [
    "\n",
    "visualize_stateR2(comparison_single, pcs_to_plot=[7,8,9,10,11,12])"
   ]
  },
  {
   "cell_type": "code",
   "execution_count": null,
   "metadata": {},
   "outputs": [],
   "source": [
    "fpsTT = an_TT.plot_fps(\n",
    "    inputs = torch.zeros(3),\n",
    "    max_iters = 40000,\n",
    "    learning_rate =5e-3,\n",
    ")"
   ]
  },
  {
   "cell_type": "code",
   "execution_count": null,
   "metadata": {},
   "outputs": [],
   "source": [
    "fpsDT_GRU = analysis_GRU.plot_fps(\n",
    "    inputs = torch.zeros(3),\n",
    "    max_iters = 40000,\n",
    "    learning_rate =5e-3,\n",
    ")"
   ]
  },
  {
   "cell_type": "code",
   "execution_count": null,
   "metadata": {},
   "outputs": [],
   "source": [
    "fpsDT_NODE = analysis_NODE.plot_fps(\n",
    "    inputs = torch.zeros(3),\n",
    "    max_iters = 40000,\n",
    "    learning_rate =5e-3,\n",
    ")"
   ]
  },
  {
   "cell_type": "code",
   "execution_count": null,
   "metadata": {},
   "outputs": [],
   "source": [
    "fpsDT_LDS = analysis_LDS.plot_fps(\n",
    "    inputs = torch.zeros(3),\n",
    "    max_iters = 40000,\n",
    "    learning_rate =5e-3,\n",
    ")"
   ]
  },
  {
   "cell_type": "code",
   "execution_count": null,
   "metadata": {},
   "outputs": [],
   "source": [
    "lats_TT = an_TT.get_latents().detach().numpy()\n",
    "lats_GRU = analysis_GRU.get_latents().detach().numpy()\n",
    "lats_NODE = analysis_NODE.get_latents().detach().numpy()\n",
    "lats_LDS = analysis_LDS.get_latents().detach().numpy()\n",
    "\n",
    "plot_model_fps(fpsTT, latents=lats_TT, q_thresh = 1e-7, label = \"TT\")\n",
    "plot_model_fps(fpsDT_GRU, latents = lats_GRU, q_thresh = 1e-6, label = \"DT_GRU\")\n",
    "plot_model_fps(fpsDT_NODE, latents = lats_NODE, q_thresh = 1e-7, label = \"DT_NODE\")\n",
    "plot_model_fps(fpsDT_LDS, latents = lats_LDS, q_thresh = 1e-7, label = \"DT_LDS\")"
   ]
  },
  {
   "cell_type": "code",
   "execution_count": null,
   "metadata": {},
   "outputs": [],
   "source": [
    "\n",
    "comparison_models = Comparison()\n",
    "comparison_models.load_analysis(an_TT, reference_analysis=True, group = \"TT\")\n",
    "comparison_models.load_analysis(analysis_GRU, group = \"GRU\")\n",
    "comparison_models.load_analysis(analysis_NODE, group = \"NODE\")\n",
    "comparison_models.load_analysis(analysis_LDS, group = \"LDS\")\n",
    "comparison_models.regroup()"
   ]
  },
  {
   "cell_type": "code",
   "execution_count": null,
   "metadata": {},
   "outputs": [],
   "source": [
    "comparison_models.plot_trials_reference(num_trials=2, num_pcs=4)"
   ]
  },
  {
   "cell_type": "code",
   "execution_count": null,
   "metadata": {},
   "outputs": [],
   "source": [
    "lds_fps = analysis_LDS.plot_fps(\n",
    "    inputs = torch.zeros(3),\n",
    "    learning_rate = 1e-3,\n",
    "    n_inits=1024,\n",
    "    max_iters = 20000,                      \n",
    ")\n",
    "\n"
   ]
  },
  {
   "cell_type": "code",
   "execution_count": null,
   "metadata": {},
   "outputs": [],
   "source": [
    "node_fps = analysis_NODE.plot_fps(\n",
    "    inputs = torch.zeros(3),\n",
    "    learning_rate = 6e-4,\n",
    "    n_inits=1024,\n",
    "    max_iters = 50000,                      \n",
    ")"
   ]
  },
  {
   "cell_type": "code",
   "execution_count": null,
   "metadata": {},
   "outputs": [],
   "source": [
    "gru_fps = analysis_GRU.plot_fps(\n",
    "    inputs = torch.zeros(3),\n",
    "    learning_rate = 6e-4,\n",
    "    n_inits=1024,\n",
    "    max_iters = 50000,                      \n",
    ")"
   ]
  },
  {
   "cell_type": "code",
   "execution_count": null,
   "metadata": {},
   "outputs": [],
   "source": [
    "plot_model_fps(lds_fps, q_thresh = 1e-4)\n",
    "plot_model_fps(node_fps, q_thresh = 1e-4)\n",
    "plot_model_fps(gru_fps, q_thresh = 4e-7)"
   ]
  },
  {
   "cell_type": "markdown",
   "metadata": {},
   "source": []
  }
 ],
 "metadata": {
  "kernelspec": {
   "display_name": "build5",
   "language": "python",
   "name": "python3"
  },
  "language_info": {
   "codemirror_mode": {
    "name": "ipython",
    "version": 3
   },
   "file_extension": ".py",
   "mimetype": "text/x-python",
   "name": "python",
   "nbconvert_exporter": "python",
   "pygments_lexer": "ipython3",
   "version": "3.10.13"
  }
 },
 "nbformat": 4,
 "nbformat_minor": 2
}
