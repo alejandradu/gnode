{
 "cells": [
  {
   "cell_type": "code",
   "execution_count": 1,
   "metadata": {},
   "outputs": [
    {
     "data": {
      "text/plain": [
       "True"
      ]
     },
     "execution_count": 1,
     "metadata": {},
     "output_type": "execute_result"
    }
   ],
   "source": [
    "import matplotlib.pyplot as plt\n",
    "\n",
    "import numpy as np\n",
    "import os\n",
    "from ctd.comparison.analysis.tt.tt import Analysis_TT \n",
    "from ctd.comparison.analysis.dt.dt import Analysis_DT\n",
    "from ctd.comparison.analysis.external.ext import Analysis_Ext\n",
    "# Import pca\n",
    "import dotenv\n",
    "from ctd.comparison.comparison import Comparison\n",
    "import torch\n",
    "from sklearn.decomposition import PCA\n",
    "from sklearn.linear_model import LinearRegression\n",
    "from sklearn.metrics import r2_score\n",
    "dotenv.load_dotenv(dotenv.find_dotenv())"
   ]
  },
  {
   "cell_type": "code",
   "execution_count": null,
   "metadata": {},
   "outputs": [],
   "source": []
  },
  {
   "cell_type": "code",
   "execution_count": 2,
   "metadata": {},
   "outputs": [
    {
     "name": "stdout",
     "output_type": "stream",
     "text": [
      "/home/csverst/Github/CtDBenchmark/\n",
      "<KeysViewHDF5 ['eval_latents', 'eval_rates', 'train_latents', 'train_rates']>\n",
      "<KeysViewHDF5 ['eval_latents', 'eval_rates', 'train_latents', 'train_rates']>\n",
      "<KeysViewHDF5 ['eval_latents', 'eval_rates', 'train_latents', 'train_rates']>\n",
      "<KeysViewHDF5 ['eval_latents', 'eval_rates', 'train_latents', 'train_rates']>\n",
      "<KeysViewHDF5 ['eval_latents', 'eval_rates', 'fixed_points', 'train_latents', 'train_rates']>\n",
      "<KeysViewHDF5 ['eval_latents', 'eval_rates', 'train_latents', 'train_rates']>\n",
      "<KeysViewHDF5 ['eval_latents', 'eval_rates', 'train_latents', 'train_rates']>\n",
      "<KeysViewHDF5 ['eval_latents', 'eval_rates', 'train_latents', 'train_rates']>\n",
      "<KeysViewHDF5 ['eval_latents', 'eval_rates', 'fixed_points', 'train_latents', 'train_rates']>\n",
      "<KeysViewHDF5 ['eval_latents', 'eval_rates', 'fixed_points', 'train_latents', 'train_rates']>\n"
     ]
    }
   ],
   "source": [
    "HOME_DIR = os.environ['HOME_DIR']\n",
    "print(HOME_DIR)\n",
    "slds_path = \"/home/csverst/Github/CtDBenchmark/sldsV2/\"\n",
    "\n",
    "pathTT = HOME_DIR + 'content/trained_models/task-trained/20240503_Fig1_NBFF_NoisyGRU/max_epochs=500 n_samples=1000 latent_size=64 seed=0 learning_rate=0.001/'\n",
    "an_TT = Analysis_TT(run_name = \"TT\", filepath = pathTT)\n",
    "\n",
    "path_GRU_Sweep = pathTT + \"20240503_Fig1_NBFF_GRU_TT_GRU_Sweep/\"\n",
    "subfolders_GRU = [f.path for f in os.scandir(path_GRU_Sweep) if f.is_dir()]\n",
    "\n",
    "for subfolder in subfolders_GRU:\n",
    "    subfolder = subfolder + \"/\"\n",
    "    analysis_GRU = Analysis_DT(run_name = \"GRU\", filepath = subfolder, model_type = \"SAE\")\n",
    "\n",
    "slds3_1 = Analysis_Ext(run_name = \"SLDS3_1\", filepath = slds_path + \"slds_3bff_v2_3_Run1.h5\")\n",
    "slds3_2 = Analysis_Ext(run_name = \"SLDS3_3\", filepath = slds_path + \"slds_3bff_v2_3_Run2.h5\")\n",
    "slds3_3 = Analysis_Ext(run_name = \"SLDS3_4\", filepath = slds_path + \"slds_3bff_v2_3_Run3.h5\")\n",
    "slds3_4 = Analysis_Ext(run_name = \"SLDS3_4\", filepath = slds_path + \"slds_3bff_v2_3_Run4.h5\")\n",
    "slds3_5 = Analysis_Ext(run_name = \"SLDS3_5\", filepath = slds_path + \"slds_3bff_v2_3_Run5.h5\")\n",
    "slds8_1 = Analysis_Ext(run_name = \"SLDS8_1\", filepath = slds_path + \"slds_3bff_v2_8_Run1.h5\")\n",
    "slds8_2 = Analysis_Ext(run_name = \"SLDS8_2\", filepath = slds_path + \"slds_3bff_v2_8_Run2.h5\")\n",
    "slds8_3 = Analysis_Ext(run_name = \"SLDS8_3\", filepath = slds_path + \"slds_3bff_v2_8_Run3.h5\")\n",
    "slds8_4 = Analysis_Ext(run_name = \"SLDS8_4\", filepath = slds_path + \"slds_3bff_v2_8_Run4.h5\")\n",
    "slds8_5 = Analysis_Ext(run_name = \"SLDS8_5\", filepath = slds_path + \"slds_3bff_v2_8_Run5.h5\")"
   ]
  },
  {
   "cell_type": "code",
   "execution_count": 3,
   "metadata": {},
   "outputs": [],
   "source": [
    "comparison = Comparison(comparison_tag=\"Figure2NBFF_TTGRU_SLDS\")\n",
    "\n",
    "train_true_rates = analysis_GRU.get_true_rates(phase = 'train')\n",
    "eval_true_rates = analysis_GRU.get_true_rates(phase = 'val')\n",
    "\n",
    "slds3_1.add_true_rates(train_true_rates, eval_true_rates)\n",
    "slds3_2.add_true_rates(train_true_rates, eval_true_rates)\n",
    "slds3_3.add_true_rates(train_true_rates, eval_true_rates)\n",
    "slds3_4.add_true_rates(train_true_rates, eval_true_rates)\n",
    "slds3_5.add_true_rates(train_true_rates, eval_true_rates)\n",
    "slds8_1.add_true_rates(train_true_rates, eval_true_rates)\n",
    "slds8_2.add_true_rates(train_true_rates, eval_true_rates)\n",
    "slds8_3.add_true_rates(train_true_rates, eval_true_rates)\n",
    "slds8_4.add_true_rates(train_true_rates, eval_true_rates)\n",
    "slds8_5.add_true_rates(train_true_rates, eval_true_rates)\n",
    "\n",
    "\n",
    "comparison.load_analysis(an_TT, reference_analysis=True, group = \"TT\")\n",
    "comparison.load_analysis(slds3_1, group = \"SLDS3\")\n",
    "comparison.load_analysis(slds3_2, group = \"SLDS3\")\n",
    "comparison.load_analysis(slds3_3, group = \"SLDS3\")\n",
    "comparison.load_analysis(slds3_4, group = \"SLDS3\")\n",
    "comparison.load_analysis(slds3_5, group = \"SLDS3\")\n",
    "comparison.load_analysis(slds8_1, group = \"SLDS8\")\n",
    "comparison.load_analysis(slds8_2, group = \"SLDS8\")\n",
    "comparison.load_analysis(slds8_3, group = \"SLDS8\")\n",
    "comparison.load_analysis(slds8_4, group = \"SLDS8\")\n",
    "comparison.load_analysis(slds8_5, group = \"SLDS8\")\n",
    "\n",
    "comparison.load_analysis(analysis=analysis_GRU, group = \"GRU\")\n",
    "\n",
    "comparison.regroup()"
   ]
  },
  {
   "cell_type": "code",
   "execution_count": 4,
   "metadata": {},
   "outputs": [
    {
     "name": "stdout",
     "output_type": "stream",
     "text": [
      "Working on 1 of 12: GRU\n",
      "Group: GRU\n",
      "Rate R2: 0.9214727389594256\n",
      "State R2: 0.852879463310795\n",
      "Working on 2 of 12: SLDS3_1\n",
      "Group: SLDS3\n",
      "Rate R2: 0.6955704142546523\n",
      "State R2: 0.8996342111500882\n",
      "Working on 3 of 12: SLDS3_3\n",
      "Group: SLDS3\n",
      "Rate R2: 0.696437521689255\n",
      "State R2: 0.8954563956372283\n",
      "Working on 4 of 12: SLDS3_4\n",
      "Group: SLDS3\n",
      "Rate R2: 0.6709508588041747\n",
      "State R2: 0.8713701553052373\n",
      "Working on 5 of 12: SLDS3_4\n",
      "Group: SLDS3\n",
      "Rate R2: 0.7141790091094458\n",
      "State R2: 0.9221966890288359\n",
      "Working on 6 of 12: SLDS3_5\n",
      "Group: SLDS3\n",
      "Rate R2: 0.6632380692306029\n",
      "State R2: 0.858381510047792\n",
      "Working on 7 of 12: SLDS8_1\n",
      "Group: SLDS8\n",
      "Rate R2: 0.7085583219643509\n",
      "State R2: 0.9193397923109495\n",
      "Working on 8 of 12: SLDS8_2\n",
      "Group: SLDS8\n",
      "Rate R2: 0.7150821268820028\n",
      "State R2: 0.9220336952613177\n",
      "Working on 9 of 12: SLDS8_3\n",
      "Group: SLDS8\n",
      "Rate R2: 0.7216856629557014\n",
      "State R2: 0.9298758073585018\n",
      "Working on 10 of 12: SLDS8_4\n",
      "Group: SLDS8\n",
      "Rate R2: 0.7230928057281267\n",
      "State R2: 0.9289508307377312\n",
      "Working on 11 of 12: SLDS8_5\n",
      "Group: SLDS8\n",
      "Rate R2: 0.7228777835348549\n",
      "State R2: 0.9326999823976041\n",
      "Working on 12 of 12: TT\n",
      "Group: TT\n"
     ]
    },
    {
     "data": {
      "text/plain": [
       "array([[0.92147274, 0.85287946],\n",
       "       [0.69557041, 0.89963421],\n",
       "       [0.69643752, 0.8954564 ],\n",
       "       [0.67095086, 0.87137016],\n",
       "       [0.71417901, 0.92219669],\n",
       "       [0.66323807, 0.85838151],\n",
       "       [0.70855832, 0.91933979],\n",
       "       [0.71508213, 0.9220337 ],\n",
       "       [0.72168566, 0.92987581],\n",
       "       [0.72309281, 0.92895083],\n",
       "       [0.72287778, 0.93269998],\n",
       "       [0.        , 0.        ]])"
      ]
     },
     "execution_count": 4,
     "metadata": {},
     "output_type": "execute_result"
    },
    {
     "data": {
      "image/png": "[encoded data removed]",
      "text/plain": [
       "<Figure size 640x480 with 1 Axes>"
      ]
     },
     "metadata": {},
     "output_type": "display_data"
    }
   ],
   "source": [
    "plot_dict = {\n",
    "    \"save_pdf\": True,\n",
    "    \"ax_lim\": [0.15, 1.05],\n",
    "    \"marker\": \"o\",\n",
    "}\n",
    "comparison.compare_rate_state_r2(plot_dict = plot_dict)"
   ]
  },
  {
   "cell_type": "code",
   "execution_count": 5,
   "metadata": {},
   "outputs": [
    {
     "ename": "NameError",
     "evalue": "name 'slds3' is not defined",
     "output_type": "error",
     "traceback": [
      "\u001b[0;31m---------------------------------------------------------------------------\u001b[0m",
      "\u001b[0;31mNameError\u001b[0m                                 Traceback (most recent call last)",
      "Cell \u001b[0;32mIn[5], line 1\u001b[0m\n\u001b[0;32m----> 1\u001b[0m rates3 \u001b[38;5;241m=\u001b[39m \u001b[43mslds3\u001b[49m\u001b[38;5;241m.\u001b[39mget_rates(phase \u001b[38;5;241m=\u001b[39m \u001b[38;5;124m'\u001b[39m\u001b[38;5;124mval\u001b[39m\u001b[38;5;124m'\u001b[39m)\n\u001b[1;32m      2\u001b[0m rates5 \u001b[38;5;241m=\u001b[39m slds5\u001b[38;5;241m.\u001b[39mget_rates(phase \u001b[38;5;241m=\u001b[39m \u001b[38;5;124m'\u001b[39m\u001b[38;5;124mval\u001b[39m\u001b[38;5;124m'\u001b[39m)\n\u001b[1;32m      3\u001b[0m rates8 \u001b[38;5;241m=\u001b[39m slds8\u001b[38;5;241m.\u001b[39mget_rates(phase \u001b[38;5;241m=\u001b[39m \u001b[38;5;124m'\u001b[39m\u001b[38;5;124mval\u001b[39m\u001b[38;5;124m'\u001b[39m)\n",
      "\u001b[0;31mNameError\u001b[0m: name 'slds3' is not defined"
     ]
    }
   ],
   "source": [
    "rates3 = slds3.get_rates(phase = 'val')\n",
    "rates5 = slds5.get_rates(phase = 'val')\n",
    "rates8 = slds8.get_rates(phase = 'val')\n",
    "rates12 = slds12.get_rates(phase = 'val')\n",
    "rates16 = slds16.get_rates(phase = 'val')\n",
    "true_rates = slds3.get_true_rates(phase = 'val')\n",
    "\n",
    "gru_rates = analysis_GRU.get_rates(phase = 'val').detach().cpu().numpy()\n",
    "\n",
    "fig = plt.figure(figsize=(20, 10))\n",
    "ax = fig.add_subplot(111)\n",
    "trial = 0\n",
    "neuron = 0\n",
    "ax.plot(rates3[trial,:,neuron], label = \"SLDS3\")\n",
    "ax.plot(rates5[trial,:,neuron], label = \"SLDS5\")\n",
    "ax.plot(rates8[trial,:,neuron], label = \"SLDS8\")\n",
    "ax.plot(rates12[trial,:,neuron], label = \"SLDS12\")\n",
    "ax.plot(rates16[trial,:,neuron], label = \"SLDS16\")\n",
    "ax.plot(gru_rates[trial,:,neuron], label = \"GRU\")\n",
    "ax.plot(true_rates[trial,:,neuron], label = \"True\")\n",
    "ax.legend()"
   ]
  }
 ],
 "metadata": {
  "kernelspec": {
   "display_name": "build5",
   "language": "python",
   "name": "python3"
  },
  "language_info": {
   "codemirror_mode": {
    "name": "ipython",
    "version": 3
   },
   "file_extension": ".py",
   "mimetype": "text/x-python",
   "name": "python",
   "nbconvert_exporter": "python",
   "pygments_lexer": "ipython3",
   "version": "3.10.13"
  }
 },
 "nbformat": 4,
 "nbformat_minor": 2
}
